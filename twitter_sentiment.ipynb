{
 "cells": [
  {
   "cell_type": "code",
   "execution_count": 2,
   "id": "38cc36e2-1f5d-44ce-8f68-1dc93705ca73",
   "metadata": {},
   "outputs": [],
   "source": [
    "# !kaggle datasets download -d jp797498e/twitter-entity-sentiment-analysis\n",
    "# !unzip -a twitter-entity-sentiment-analysis.zip"
   ]
  },
  {
   "cell_type": "markdown",
   "id": "728a729c-a049-44ed-9cf2-c171fd9e0651",
   "metadata": {},
   "source": [
    "# EDA:\n",
    "Before designing a model, lets get an idea of the data in the training dataset."
   ]
  },
  {
   "cell_type": "code",
   "execution_count": 29,
   "id": "3deff8b5-0525-412c-8622-130f8d70114b",
   "metadata": {},
   "outputs": [],
   "source": [
    "import re\n",
    "import matplotlib.pyplot as plt\n",
    "import seaborn as sns\n",
    "import pandas as pd\n",
    "from sklearn.preprocessing import OneHotEncoder, StandardScaler\n",
    "from sklearn.impute import SimpleImputer\n",
    "from sklearn.compose import ColumnTransformer\n",
    "from sklearn.pipeline import Pipeline\n",
    "import torch\n",
    "import os\n",
    "import numpy as np\n",
    "import torch.nn as nn\n",
    "import torch.nn.functional as F\n",
    "import torch.optim as optim\n",
    "from torch.utils.data import DataLoader, Dataset, TensorDataset\n",
    "from torch.utils.data import random_split\n",
    "device = torch.device('cuda:0' if torch.cuda.is_available() else 'cpu')"
   ]
  },
  {
   "cell_type": "code",
   "execution_count": 4,
   "id": "20258033-65c4-4d35-9b06-8a70892e14b1",
   "metadata": {},
   "outputs": [],
   "source": [
    "train = pd.read_csv(\"twitter_training.csv\")\n",
    "val = pd.read_csv('twitter_validation.csv')"
   ]
  },
  {
   "cell_type": "code",
   "execution_count": 5,
   "id": "d5655eb7-661d-4348-9db0-52b40639923b",
   "metadata": {},
   "outputs": [
    {
     "data": {
      "text/html": [
       "<div>\n",
       "<style scoped>\n",
       "    .dataframe tbody tr th:only-of-type {\n",
       "        vertical-align: middle;\n",
       "    }\n",
       "\n",
       "    .dataframe tbody tr th {\n",
       "        vertical-align: top;\n",
       "    }\n",
       "\n",
       "    .dataframe thead th {\n",
       "        text-align: right;\n",
       "    }\n",
       "</style>\n",
       "<table border=\"1\" class=\"dataframe\">\n",
       "  <thead>\n",
       "    <tr style=\"text-align: right;\">\n",
       "      <th></th>\n",
       "      <th>2401</th>\n",
       "      <th>Borderlands</th>\n",
       "      <th>Positive</th>\n",
       "      <th>im getting on borderlands and i will murder you all ,</th>\n",
       "    </tr>\n",
       "  </thead>\n",
       "  <tbody>\n",
       "    <tr>\n",
       "      <th>0</th>\n",
       "      <td>2401</td>\n",
       "      <td>Borderlands</td>\n",
       "      <td>Positive</td>\n",
       "      <td>I am coming to the borders and I will kill you...</td>\n",
       "    </tr>\n",
       "    <tr>\n",
       "      <th>1</th>\n",
       "      <td>2401</td>\n",
       "      <td>Borderlands</td>\n",
       "      <td>Positive</td>\n",
       "      <td>im getting on borderlands and i will kill you ...</td>\n",
       "    </tr>\n",
       "    <tr>\n",
       "      <th>2</th>\n",
       "      <td>2401</td>\n",
       "      <td>Borderlands</td>\n",
       "      <td>Positive</td>\n",
       "      <td>im coming on borderlands and i will murder you...</td>\n",
       "    </tr>\n",
       "    <tr>\n",
       "      <th>3</th>\n",
       "      <td>2401</td>\n",
       "      <td>Borderlands</td>\n",
       "      <td>Positive</td>\n",
       "      <td>im getting on borderlands 2 and i will murder ...</td>\n",
       "    </tr>\n",
       "    <tr>\n",
       "      <th>4</th>\n",
       "      <td>2401</td>\n",
       "      <td>Borderlands</td>\n",
       "      <td>Positive</td>\n",
       "      <td>im getting into borderlands and i can murder y...</td>\n",
       "    </tr>\n",
       "    <tr>\n",
       "      <th>...</th>\n",
       "      <td>...</td>\n",
       "      <td>...</td>\n",
       "      <td>...</td>\n",
       "      <td>...</td>\n",
       "    </tr>\n",
       "    <tr>\n",
       "      <th>74666</th>\n",
       "      <td>9198</td>\n",
       "      <td>Nvidia</td>\n",
       "      <td>Negative</td>\n",
       "      <td>Nvidia really delayed the 3070 several weeks.</td>\n",
       "    </tr>\n",
       "    <tr>\n",
       "      <th>74667</th>\n",
       "      <td>9198</td>\n",
       "      <td>Nvidia</td>\n",
       "      <td>Negative</td>\n",
       "      <td>Nvidia really only delayed the 3070 2 flight w...</td>\n",
       "    </tr>\n",
       "    <tr>\n",
       "      <th>74668</th>\n",
       "      <td>9198</td>\n",
       "      <td>Nvidia</td>\n",
       "      <td>Negative</td>\n",
       "      <td>Nvidia really delayed the next 2 weeks.</td>\n",
       "    </tr>\n",
       "    <tr>\n",
       "      <th>74669</th>\n",
       "      <td>9199</td>\n",
       "      <td>Nvidia</td>\n",
       "      <td>Positive</td>\n",
       "      <td>Let no elim go unnoticed. . . . NVIDIA Highlig...</td>\n",
       "    </tr>\n",
       "    <tr>\n",
       "      <th>74670</th>\n",
       "      <td>9199</td>\n",
       "      <td>Nvidia</td>\n",
       "      <td>Positive</td>\n",
       "      <td>t let Elim go unnoticed.... NVIDIA Highlights ...</td>\n",
       "    </tr>\n",
       "  </tbody>\n",
       "</table>\n",
       "<p>74671 rows × 4 columns</p>\n",
       "</div>"
      ],
      "text/plain": [
       "       2401  Borderlands  Positive  \\\n",
       "0      2401  Borderlands  Positive   \n",
       "1      2401  Borderlands  Positive   \n",
       "2      2401  Borderlands  Positive   \n",
       "3      2401  Borderlands  Positive   \n",
       "4      2401  Borderlands  Positive   \n",
       "...     ...          ...       ...   \n",
       "74666  9198       Nvidia  Negative   \n",
       "74667  9198       Nvidia  Negative   \n",
       "74668  9198       Nvidia  Negative   \n",
       "74669  9199       Nvidia  Positive   \n",
       "74670  9199       Nvidia  Positive   \n",
       "\n",
       "      im getting on borderlands and i will murder you all ,  \n",
       "0      I am coming to the borders and I will kill you...     \n",
       "1      im getting on borderlands and i will kill you ...     \n",
       "2      im coming on borderlands and i will murder you...     \n",
       "3      im getting on borderlands 2 and i will murder ...     \n",
       "4      im getting into borderlands and i can murder y...     \n",
       "...                                                  ...     \n",
       "74666      Nvidia really delayed the 3070 several weeks.     \n",
       "74667  Nvidia really only delayed the 3070 2 flight w...     \n",
       "74668            Nvidia really delayed the next 2 weeks.     \n",
       "74669  Let no elim go unnoticed. . . . NVIDIA Highlig...     \n",
       "74670  t let Elim go unnoticed.... NVIDIA Highlights ...     \n",
       "\n",
       "[74671 rows x 4 columns]"
      ]
     },
     "execution_count": 5,
     "metadata": {},
     "output_type": "execute_result"
    }
   ],
   "source": [
    "train.head(-10)"
   ]
  },
  {
   "cell_type": "markdown",
   "id": "fc5314b9-ef94-4428-af91-328b22a71cd8",
   "metadata": {},
   "source": [
    "# First Impressions\n",
    "The data is not really organized into columns, so I will need to do some preproccessing for that. <br>\n",
    "Secondly, it seems like some of the data is containing the UNK key which means I'll need to pull that out."
   ]
  },
  {
   "cell_type": "code",
   "execution_count": 6,
   "id": "8b104eaf-87d6-41c9-baa8-ee441110152c",
   "metadata": {},
   "outputs": [
    {
     "name": "stderr",
     "output_type": "stream",
     "text": [
      "[nltk_data] Downloading package stopwords to /home/mhrrs/nltk_data...\n",
      "[nltk_data]   Package stopwords is already up-to-date!\n"
     ]
    },
    {
     "data": {
      "text/plain": [
       "True"
      ]
     },
     "execution_count": 6,
     "metadata": {},
     "output_type": "execute_result"
    }
   ],
   "source": [
    "import nltk\n",
    "from nltk import word_tokenize\n",
    "from nltk.corpus import stopwords\n",
    "# nltk.download('punkt')\n",
    "nltk.download('stopwords')"
   ]
  },
  {
   "cell_type": "code",
   "execution_count": 7,
   "id": "f81ad873-5383-4e99-81b4-300f7e45518d",
   "metadata": {},
   "outputs": [
    {
     "data": {
      "text/html": [
       "<div>\n",
       "<style scoped>\n",
       "    .dataframe tbody tr th:only-of-type {\n",
       "        vertical-align: middle;\n",
       "    }\n",
       "\n",
       "    .dataframe tbody tr th {\n",
       "        vertical-align: top;\n",
       "    }\n",
       "\n",
       "    .dataframe thead th {\n",
       "        text-align: right;\n",
       "    }\n",
       "</style>\n",
       "<table border=\"1\" class=\"dataframe\">\n",
       "  <thead>\n",
       "    <tr style=\"text-align: right;\">\n",
       "      <th></th>\n",
       "      <th>id</th>\n",
       "      <th>subject</th>\n",
       "      <th>sentiment</th>\n",
       "      <th>text</th>\n",
       "    </tr>\n",
       "  </thead>\n",
       "  <tbody>\n",
       "    <tr>\n",
       "      <th>0</th>\n",
       "      <td>2401</td>\n",
       "      <td>Borderlands</td>\n",
       "      <td>Positive</td>\n",
       "      <td>I am coming to the borders and I will kill you...</td>\n",
       "    </tr>\n",
       "    <tr>\n",
       "      <th>1</th>\n",
       "      <td>2401</td>\n",
       "      <td>Borderlands</td>\n",
       "      <td>Positive</td>\n",
       "      <td>im getting on borderlands and i will kill you ...</td>\n",
       "    </tr>\n",
       "    <tr>\n",
       "      <th>2</th>\n",
       "      <td>2401</td>\n",
       "      <td>Borderlands</td>\n",
       "      <td>Positive</td>\n",
       "      <td>im coming on borderlands and i will murder you...</td>\n",
       "    </tr>\n",
       "    <tr>\n",
       "      <th>3</th>\n",
       "      <td>2401</td>\n",
       "      <td>Borderlands</td>\n",
       "      <td>Positive</td>\n",
       "      <td>im getting on borderlands 2 and i will murder ...</td>\n",
       "    </tr>\n",
       "    <tr>\n",
       "      <th>4</th>\n",
       "      <td>2401</td>\n",
       "      <td>Borderlands</td>\n",
       "      <td>Positive</td>\n",
       "      <td>im getting into borderlands and i can murder y...</td>\n",
       "    </tr>\n",
       "  </tbody>\n",
       "</table>\n",
       "</div>"
      ],
      "text/plain": [
       "     id      subject sentiment  \\\n",
       "0  2401  Borderlands  Positive   \n",
       "1  2401  Borderlands  Positive   \n",
       "2  2401  Borderlands  Positive   \n",
       "3  2401  Borderlands  Positive   \n",
       "4  2401  Borderlands  Positive   \n",
       "\n",
       "                                                text  \n",
       "0  I am coming to the borders and I will kill you...  \n",
       "1  im getting on borderlands and i will kill you ...  \n",
       "2  im coming on borderlands and i will murder you...  \n",
       "3  im getting on borderlands 2 and i will murder ...  \n",
       "4  im getting into borderlands and i can murder y...  "
      ]
     },
     "execution_count": 7,
     "metadata": {},
     "output_type": "execute_result"
    }
   ],
   "source": [
    "train.columns=['id', 'subject', 'sentiment', 'text']\n",
    "val.columns=['id', 'subject', 'sentiment', 'text']\n",
    "train.head()"
   ]
  },
  {
   "cell_type": "code",
   "execution_count": 8,
   "id": "6aa308d0-7621-438d-bfb9-650b98131c16",
   "metadata": {},
   "outputs": [
    {
     "data": {
      "text/plain": [
       "Negative      22542\n",
       "Positive      20831\n",
       "Neutral       18318\n",
       "Irrelevant    12990\n",
       "Name: sentiment, dtype: int64"
      ]
     },
     "execution_count": 8,
     "metadata": {},
     "output_type": "execute_result"
    }
   ],
   "source": [
    "# Assuming that `train` is a pandas DataFrame, you can use the `value_counts` function on the 'sentiment' column to get the quantity of each unique sentiment value.\n",
    "\n",
    "sentiment_counts = train['sentiment'].value_counts()\n",
    "sentiment_counts\n"
   ]
  },
  {
   "cell_type": "code",
   "execution_count": 9,
   "id": "e5520c0f-3254-4ea2-ae8e-9553ab206e90",
   "metadata": {},
   "outputs": [],
   "source": [
    "train['lower'] = train.text.str.lower()\n",
    "train['lower'] = [str(data) for data in train.lower]\n",
    "val['lower'] = val.text.str.lower()\n",
    "val['lower'] = [str(data) for data in val.lower]\n",
    "train[\"lower\"]=train.lower.apply(lambda x: re.sub('[^A-Za-z0-9 ]+', ' ', x))\n",
    "val[\"lower\"]=val.lower.apply(lambda x: re.sub('[^A-Za-z0-9 ]+', ' ', x))"
   ]
  },
  {
   "cell_type": "code",
   "execution_count": 10,
   "id": "e882028c-e563-4323-9306-dd83cf714a04",
   "metadata": {},
   "outputs": [
    {
     "data": {
      "text/html": [
       "<div>\n",
       "<style scoped>\n",
       "    .dataframe tbody tr th:only-of-type {\n",
       "        vertical-align: middle;\n",
       "    }\n",
       "\n",
       "    .dataframe tbody tr th {\n",
       "        vertical-align: top;\n",
       "    }\n",
       "\n",
       "    .dataframe thead th {\n",
       "        text-align: right;\n",
       "    }\n",
       "</style>\n",
       "<table border=\"1\" class=\"dataframe\">\n",
       "  <thead>\n",
       "    <tr style=\"text-align: right;\">\n",
       "      <th></th>\n",
       "      <th>id</th>\n",
       "      <th>subject</th>\n",
       "      <th>sentiment</th>\n",
       "      <th>text</th>\n",
       "      <th>lower</th>\n",
       "    </tr>\n",
       "  </thead>\n",
       "  <tbody>\n",
       "    <tr>\n",
       "      <th>0</th>\n",
       "      <td>352</td>\n",
       "      <td>Amazon</td>\n",
       "      <td>Neutral</td>\n",
       "      <td>BBC News - Amazon boss Jeff Bezos rejects clai...</td>\n",
       "      <td>bbc news   amazon boss jeff bezos rejects clai...</td>\n",
       "    </tr>\n",
       "    <tr>\n",
       "      <th>1</th>\n",
       "      <td>8312</td>\n",
       "      <td>Microsoft</td>\n",
       "      <td>Negative</td>\n",
       "      <td>@Microsoft Why do I pay for WORD when it funct...</td>\n",
       "      <td>microsoft why do i pay for word when it funct...</td>\n",
       "    </tr>\n",
       "    <tr>\n",
       "      <th>2</th>\n",
       "      <td>4371</td>\n",
       "      <td>CS-GO</td>\n",
       "      <td>Negative</td>\n",
       "      <td>CSGO matchmaking is so full of closet hacking,...</td>\n",
       "      <td>csgo matchmaking is so full of closet hacking ...</td>\n",
       "    </tr>\n",
       "    <tr>\n",
       "      <th>3</th>\n",
       "      <td>4433</td>\n",
       "      <td>Google</td>\n",
       "      <td>Neutral</td>\n",
       "      <td>Now the President is slapping Americans in the...</td>\n",
       "      <td>now the president is slapping americans in the...</td>\n",
       "    </tr>\n",
       "    <tr>\n",
       "      <th>4</th>\n",
       "      <td>6273</td>\n",
       "      <td>FIFA</td>\n",
       "      <td>Negative</td>\n",
       "      <td>Hi @EAHelp I’ve had Madeleine McCann in my cel...</td>\n",
       "      <td>hi  eahelp i ve had madeleine mccann in my cel...</td>\n",
       "    </tr>\n",
       "  </tbody>\n",
       "</table>\n",
       "</div>"
      ],
      "text/plain": [
       "     id    subject sentiment  \\\n",
       "0   352     Amazon   Neutral   \n",
       "1  8312  Microsoft  Negative   \n",
       "2  4371      CS-GO  Negative   \n",
       "3  4433     Google   Neutral   \n",
       "4  6273       FIFA  Negative   \n",
       "\n",
       "                                                text  \\\n",
       "0  BBC News - Amazon boss Jeff Bezos rejects clai...   \n",
       "1  @Microsoft Why do I pay for WORD when it funct...   \n",
       "2  CSGO matchmaking is so full of closet hacking,...   \n",
       "3  Now the President is slapping Americans in the...   \n",
       "4  Hi @EAHelp I’ve had Madeleine McCann in my cel...   \n",
       "\n",
       "                                               lower  \n",
       "0  bbc news   amazon boss jeff bezos rejects clai...  \n",
       "1   microsoft why do i pay for word when it funct...  \n",
       "2  csgo matchmaking is so full of closet hacking ...  \n",
       "3  now the president is slapping americans in the...  \n",
       "4  hi  eahelp i ve had madeleine mccann in my cel...  "
      ]
     },
     "execution_count": 10,
     "metadata": {},
     "output_type": "execute_result"
    }
   ],
   "source": [
    "val.head()"
   ]
  },
  {
   "cell_type": "code",
   "execution_count": 11,
   "id": "42b5d7fd-3a15-456e-ba19-92acf233e97f",
   "metadata": {},
   "outputs": [
    {
     "data": {
      "text/html": [
       "<div>\n",
       "<style scoped>\n",
       "    .dataframe tbody tr th:only-of-type {\n",
       "        vertical-align: middle;\n",
       "    }\n",
       "\n",
       "    .dataframe tbody tr th {\n",
       "        vertical-align: top;\n",
       "    }\n",
       "\n",
       "    .dataframe thead th {\n",
       "        text-align: right;\n",
       "    }\n",
       "</style>\n",
       "<table border=\"1\" class=\"dataframe\">\n",
       "  <thead>\n",
       "    <tr style=\"text-align: right;\">\n",
       "      <th></th>\n",
       "      <th>subject</th>\n",
       "      <th>sentiment</th>\n",
       "      <th>id</th>\n",
       "      <th>text</th>\n",
       "      <th>lower</th>\n",
       "    </tr>\n",
       "  </thead>\n",
       "  <tbody>\n",
       "    <tr>\n",
       "      <th>0</th>\n",
       "      <td>Amazon</td>\n",
       "      <td>Irrelevant</td>\n",
       "      <td>192</td>\n",
       "      <td>186</td>\n",
       "      <td>192</td>\n",
       "    </tr>\n",
       "    <tr>\n",
       "      <th>1</th>\n",
       "      <td>Amazon</td>\n",
       "      <td>Negative</td>\n",
       "      <td>576</td>\n",
       "      <td>575</td>\n",
       "      <td>576</td>\n",
       "    </tr>\n",
       "    <tr>\n",
       "      <th>2</th>\n",
       "      <td>Amazon</td>\n",
       "      <td>Neutral</td>\n",
       "      <td>1236</td>\n",
       "      <td>1207</td>\n",
       "      <td>1236</td>\n",
       "    </tr>\n",
       "    <tr>\n",
       "      <th>3</th>\n",
       "      <td>Amazon</td>\n",
       "      <td>Positive</td>\n",
       "      <td>312</td>\n",
       "      <td>308</td>\n",
       "      <td>312</td>\n",
       "    </tr>\n",
       "    <tr>\n",
       "      <th>4</th>\n",
       "      <td>ApexLegends</td>\n",
       "      <td>Irrelevant</td>\n",
       "      <td>192</td>\n",
       "      <td>192</td>\n",
       "      <td>192</td>\n",
       "    </tr>\n",
       "  </tbody>\n",
       "</table>\n",
       "</div>"
      ],
      "text/plain": [
       "       subject   sentiment    id  text  lower\n",
       "0       Amazon  Irrelevant   192   186    192\n",
       "1       Amazon    Negative   576   575    576\n",
       "2       Amazon     Neutral  1236  1207   1236\n",
       "3       Amazon    Positive   312   308    312\n",
       "4  ApexLegends  Irrelevant   192   192    192"
      ]
     },
     "execution_count": 11,
     "metadata": {},
     "output_type": "execute_result"
    }
   ],
   "source": [
    "#Count information per category\n",
    "plot1=train.groupby(by=[\"subject\",\"sentiment\"]).count().reset_index()\n",
    "plot1.head()"
   ]
  },
  {
   "cell_type": "code",
   "execution_count": 12,
   "id": "05614d6d-cd95-4491-b961-da74bf0330df",
   "metadata": {},
   "outputs": [
    {
     "data": {
      "image/png": "[encoded data removed]",
      "text/plain": [
       "<Figure size 1440x360 with 1 Axes>"
      ]
     },
     "metadata": {
      "needs_background": "light"
     },
     "output_type": "display_data"
    }
   ],
   "source": [
    "#Figure of comparison per branch\n",
    "plt.figure(figsize=(20,5))\n",
    "sns.barplot(data=plot1,x=\"subject\",y=\"id\",hue=\"sentiment\")\n",
    "plt.xticks(rotation=90)\n",
    "plt.xlabel(\"Brand\")\n",
    "plt.ylabel(\"Number of tweets\")\n",
    "plt.grid()\n",
    "plt.title(\"Distribution of tweets per Subject and Sentiment\");"
   ]
  },
  {
   "cell_type": "code",
   "execution_count": 14,
   "id": "ac0a026b-ab63-4d87-8be2-d0fc73dd9410",
   "metadata": {},
   "outputs": [],
   "source": [
    "# tokenizing the sentence to just obtain the words.\n",
    "tokens_text = [word_tokenize(str(sentence)) for sentence in train.text]\n",
    "val_tokens_text = [word_tokenize(str(sentence)) for sentence in val.text]"
   ]
  },
  {
   "cell_type": "code",
   "execution_count": 15,
   "id": "6d0076ba-7e81-4b2f-bde8-64de0a8b2701",
   "metadata": {},
   "outputs": [],
   "source": [
    "# converting text of labels into index values\n",
    "sentiment_to_index = {\"Positive\": 0, \"Neutral\": 1, \"Negative\":2, \"Irrelevant\": 3}\n",
    "labels = []\n",
    "for value in train[\"sentiment\"]:\n",
    "    data = [sentiment_to_index[value]]\n",
    "    labels.append(data)\n",
    "\n",
    "val_labels = []\n",
    "for value in val[\"sentiment\"]:\n",
    "    data = [sentiment_to_index[value]]\n",
    "    val_labels.append(data)"
   ]
  },
  {
   "cell_type": "code",
   "execution_count": 16,
   "id": "d7517c3e-f048-4c0c-b8cd-effa7a752c5f",
   "metadata": {},
   "outputs": [],
   "source": [
    "# converting text of words into index values and vocab var\n",
    "words = [word for token_sentence in tokens_text for word in token_sentence]\n",
    "stop_words = set(stopwords.words('english'))\n",
    "words = [word for word in words if word not in stop_words]\n",
    "words = [word for word in words if word.isalpha()]\n",
    "vocab = sorted(set(words))\n",
    "word_to_index = {word: i for i, word in enumerate(vocab)}"
   ]
  },
  {
   "cell_type": "code",
   "execution_count": 17,
   "id": "a6ef3cb6-74f5-48aa-be6f-6d26016d969b",
   "metadata": {},
   "outputs": [
    {
     "data": {
      "text/plain": [
       "34367"
      ]
     },
     "execution_count": 17,
     "metadata": {},
     "output_type": "execute_result"
    }
   ],
   "source": [
    "vocab_size = len(word_to_index)\n",
    "vocab_size"
   ]
  },
  {
   "cell_type": "markdown",
   "id": "169459bd-35fb-4b8c-994b-1e8a3b47b3df",
   "metadata": {},
   "source": [
    "A vocab size of 34367 is very large. It's best that we do a frequency count to cut it down and assign the cut words the token of UNK"
   ]
  },
  {
   "cell_type": "code",
   "execution_count": 18,
   "id": "5f332da3-cadb-4fa4-b0ec-748ffc211e1a",
   "metadata": {},
   "outputs": [],
   "source": [
    "from collections import Counter\n",
    "\n",
    "# Get the frequency count\n",
    "freq_count = Counter(str(word).lower() for sen in tokens_text for word in sen)\n",
    "\n",
    "# Filter the counter\n",
    "filtered_freq_count = {word: count for word, count in freq_count.items() if count > 8}"
   ]
  },
  {
   "cell_type": "code",
   "execution_count": 19,
   "id": "3cc34803-d9ab-446b-bb9f-6671aa7ba240",
   "metadata": {},
   "outputs": [
    {
     "data": {
      "text/plain": [
       "8571"
      ]
     },
     "execution_count": 19,
     "metadata": {},
     "output_type": "execute_result"
    }
   ],
   "source": [
    "len(filtered_freq_count)"
   ]
  },
  {
   "cell_type": "code",
   "execution_count": 20,
   "id": "6414c82a-0d20-4475-a54a-b7ffa7b82569",
   "metadata": {},
   "outputs": [
    {
     "data": {
      "text/plain": [
       "7772"
      ]
     },
     "execution_count": 20,
     "metadata": {},
     "output_type": "execute_result"
    }
   ],
   "source": [
    "words = [word for word in filtered_freq_count if word not in stop_words]\n",
    "words = [word for word in words if word.isalpha()]\n",
    "words = ['<UNK>'] + words + ['<PAD>']\n",
    "word_to_index = {word: i for i, word in enumerate(words)}\n",
    "len(words)"
   ]
  },
  {
   "cell_type": "code",
   "execution_count": 21,
   "id": "14764460-f7e3-4d8f-9be5-0e6f3ab0df2e",
   "metadata": {},
   "outputs": [
    {
     "name": "stdout",
     "output_type": "stream",
     "text": [
      "[0, 0, 1, 0, 0, 2, 0, 0, 0, 3, 0, 0, 0]\n",
      "[0, 0, 0, 0, 466, 0, 0, 1073, 1742, 1174, 4096, 46, 0, 0, 0, 0, 0]\n"
     ]
    }
   ],
   "source": [
    "# turn token_text into data that will be inserted into the model\n",
    "index_corpus = []\n",
    "for sen in tokens_text:\n",
    "    data = [word_to_index[word] if word in word_to_index else word_to_index['<UNK>'] for word in sen]\n",
    "    index_corpus.append(data)\n",
    "print(index_corpus[0])\n",
    "\n",
    "val_index_corpus = []\n",
    "for sen in val_tokens_text:\n",
    "    data = [word_to_index[word] if word in word_to_index else word_to_index['<UNK>'] for word in sen]\n",
    "    val_index_corpus.append(data)\n",
    "print(val_index_corpus[0])"
   ]
  },
  {
   "cell_type": "code",
   "execution_count": 22,
   "id": "9b8adbea-710f-4408-b356-6156a7869280",
   "metadata": {},
   "outputs": [],
   "source": [
    "# pad the sequences\n",
    "from torch.nn.utils.rnn import pad_sequence\n",
    "\n",
    "padded_sentences = pad_sequence([torch.Tensor(sentence) for sentence in index_corpus], padding_value=word_to_index['<PAD>'])\n",
    "labels = torch.Tensor(labels)\n",
    "dataset = torch.utils.data.TensorDataset(padded_sentences.t(), labels)\n",
    "\n",
    "val_padded_sentences = pad_sequence([torch.Tensor(sentence) for sentence in val_index_corpus], padding_value=word_to_index['<PAD>'])\n",
    "val_labels = torch.Tensor(val_labels)\n",
    "val_dataset = torch.utils.data.TensorDataset(val_padded_sentences.t(), val_labels)\n",
    "\n",
    "train_loader = DataLoader(dataset, batch_size=16, shuffle=True, drop_last=True)\n",
    "val_loader = DataLoader(dataset, batch_size=16, shuffle=True, drop_last=True)"
   ]
  },
  {
   "cell_type": "code",
   "execution_count": 23,
   "id": "d32ccb46-ec2d-4f21-9315-79a1c920e0bd",
   "metadata": {},
   "outputs": [
    {
     "data": {
      "text/plain": [
       "<torch.utils.data.dataloader.DataLoader at 0x14edb5a00640>"
      ]
     },
     "execution_count": 23,
     "metadata": {},
     "output_type": "execute_result"
    }
   ],
   "source": [
    "train_loader"
   ]
  },
  {
   "cell_type": "code",
   "execution_count": 99,
   "id": "645c6492-e52a-486a-bc18-36a00b81db62",
   "metadata": {},
   "outputs": [],
   "source": [
    "class Model(nn.Module):\n",
    "    def __init__(self, vocab_size, embedding_dim, hidden_dim, output_dim, num_layers):\n",
    "        super(Model, self).__init__()\n",
    "        self.num_layers = num_layers\n",
    "        self.hidden_dim = hidden_dim\n",
    "        self.output_dim = output_dim\n",
    "        \n",
    "        self.embedding = nn.Embedding(vocab_size, embedding_dim)\n",
    "        self.lstm = torch.nn.LSTM(embedding_dim, self.hidden_dim, self.num_layers, batch_first=True)\n",
    "        self.fc = torch.nn.Linear(self.hidden_dim, self.output_dim)\n",
    "        \n",
    "    def forward(self, inputs, hidden): # input dim: [sentence_length, batch_size]\n",
    "        \n",
    "        embed = self.embedding(inputs) # embed dim: [sentence length, batch size, embedding dim]\n",
    "        \n",
    "        output, hidden = self.lstm(embed, hidden) \n",
    "        # output dim: [sentence length, batch size, hidden dim]\n",
    "        # hidden dim: [1, batch_size, hidden_dim]\n",
    "        output = output[:,-1]\n",
    "        \n",
    "        output = self.fc(output)\n",
    "        return output\n",
    "    \n",
    "    def init_hidden(self, batch_size):\n",
    "        h0 = torch.zeros((self.num_layers,batch_size,self.hidden_dim)).to(device)\n",
    "        c0 = torch.zeros((self.num_layers,batch_size,self.hidden_dim)).to(device)\n",
    "        hidden = (h0, c0)\n",
    "        return hidden"
   ]
  },
  {
   "cell_type": "code",
   "execution_count": 110,
   "id": "ce7afd2a-2fbe-40a8-84f5-c9e66b9ab17c",
   "metadata": {},
   "outputs": [],
   "source": [
    "EMBEDDING_DIM = 128\n",
    "HIDDEN_DIM = 256\n",
    "NUM_CLASSES = 4\n",
    "\n",
    "RANDOM_SEED = 123\n",
    "LR = .001\n",
    "BATCH_SIZE = 16\n",
    "EPOCHS = 15\n",
    "\n",
    "device = torch.device('cuda' if torch.cuda.is_available() else 'cpu')"
   ]
  },
  {
   "cell_type": "code",
   "execution_count": 111,
   "id": "e52e9ce2-3a26-4bac-83ff-3a224eed2792",
   "metadata": {},
   "outputs": [],
   "source": [
    "model = Model(vocab_size = len(words), embedding_dim=EMBEDDING_DIM, hidden_dim=HIDDEN_DIM, output_dim=NUM_CLASSES, num_layers = 1)\n",
    "model = model.to(device)\n",
    "optimizer = torch.optim.Adam(model.parameters(), lr=LR)\n",
    "criterion = nn.CrossEntropyLoss()\n",
    "\n",
    "folder = \"./model\"\n",
    "filename = \"model_1\"\n",
    "if not os.path.exists(folder):\n",
    "    os.mkdir(folder)\n",
    "    \n",
    "filename = os.path.join(folder, filename)"
   ]
  },
  {
   "cell_type": "code",
   "execution_count": 112,
   "id": "a204195f-7b75-45f7-8e40-70d59469601b",
   "metadata": {},
   "outputs": [
    {
     "name": "stdout",
     "output_type": "stream",
     "text": [
      "0 : torch.Size([16, 198]) : torch.Size([16, 1])\n"
     ]
    }
   ],
   "source": [
    "for epoch in range(EPOCHS):\n",
    "    idx = 0\n",
    "    for batch in train_loader:\n",
    "        inputs, labels = batch\n",
    "        print(f\"{idx} : {inputs.shape} : {labels.shape}\")\n",
    "        break\n",
    "        \n",
    "    idx +=1\n",
    "        \n",
    "    break"
   ]
  },
  {
   "cell_type": "code",
   "execution_count": 113,
   "id": "29242c2b-557b-4df9-96dc-7a35f6dbc408",
   "metadata": {},
   "outputs": [
    {
     "name": "stdout",
     "output_type": "stream",
     "text": [
      "loss: 1.34331214427948 | accuracy:\n",
      "loss: 1.3895421028137207 | accuracy:\n",
      "loss: 1.3221336603164673 | accuracy:\n",
      "loss: 1.419960618019104 | accuracy:\n",
      "loss: 1.2947204113006592 | accuracy:\n",
      "loss: 1.365169644355774 | accuracy:\n",
      "loss: 1.1326171159744263 | accuracy:\n",
      "loss: 0.7879151105880737 | accuracy:\n",
      "loss: 0.8599667549133301 | accuracy:\n",
      "loss: 0.45060810446739197 | accuracy:\n",
      "loss: 0.16894222795963287 | accuracy:\n",
      "loss: 0.20155450701713562 | accuracy:\n",
      "loss: 0.45187681913375854 | accuracy:\n",
      "loss: 0.46593695878982544 | accuracy:\n",
      "loss: 0.6490437984466553 | accuracy:\n"
     ]
    }
   ],
   "source": [
    "model.train()\n",
    "for epoch in range(EPOCHS):\n",
    "    h = model.init_hidden(batch_size=16)\n",
    "    for idx, (inputs, labels) in enumerate(train_loader):\n",
    "        inputs = torch.Tensor(inputs).long()\n",
    "        labels = torch.Tensor(labels).long()\n",
    "        inputs = inputs.to(device)\n",
    "        labels = labels.to(device)\n",
    "        \n",
    "        hidden = tuple([each.data for each in h])\n",
    "        \n",
    "        labels = labels.squeeze(1)\n",
    "        \n",
    "        optimizer.zero_grad()\n",
    "        outputs = model(inputs, hidden)\n",
    "        loss = criterion(outputs, labels)\n",
    "        \n",
    "        loss.backward()\n",
    "        optimizer.step()\n",
    "\n",
    "    torch.save(model.state_dict(), filename)\n",
    "    print(f\"loss: {loss.item()} | accuracy:\")"
   ]
  },
  {
   "cell_type": "code",
   "execution_count": 115,
   "id": "d4338c3f-ec10-4bf9-8fdc-e376e6623b3e",
   "metadata": {},
   "outputs": [
    {
     "name": "stdout",
     "output_type": "stream",
     "text": [
      "0.878763124062567\n"
     ]
    }
   ],
   "source": [
    "model.eval()\n",
    "correct = 0\n",
    "total = 0\n",
    "\n",
    "with torch.no_grad():\n",
    "    hidden = model.init_hidden(16)\n",
    "    for inputs, labels in val_loader:\n",
    "        inputs = inputs.to(device).long()\n",
    "        labels = labels.to(device).long()\n",
    "\n",
    "        labels = labels.squeeze(1)\n",
    "        preds = model(inputs, hidden)\n",
    "\n",
    "        prediction = preds.argmax(dim=1)\n",
    "        correct += (prediction == labels).sum().item()\n",
    "        total += labels.size(0)\n",
    "\n",
    "print(f\"{correct/total}\")"
   ]
  },
  {
   "cell_type": "code",
   "execution_count": 116,
   "id": "e1a28bcb-4175-40bd-8a2a-2d1c68f6df5e",
   "metadata": {},
   "outputs": [
    {
     "name": "stdout",
     "output_type": "stream",
     "text": [
      "Accuracy: 0.8787497321619885\n",
      "Precision: 0.8873574251266627\n",
      "Recall: 0.8787497321619885\n",
      "F1 Score: 0.8797466397847\n",
      "Confusion Matrix: \n",
      " [[19235  1191   234   169]\n",
      " [ 1514 16474   217   111]\n",
      " [ 1762  1336 19256   186]\n",
      " [ 1141   947   246 10653]]\n"
     ]
    }
   ],
   "source": [
    "from sklearn.metrics import precision_score, recall_score, f1_score, confusion_matrix\n",
    "\n",
    "model.eval()\n",
    "correct = 0\n",
    "total = 0\n",
    "all_labels = []\n",
    "all_predictions = []\n",
    "\n",
    "with torch.no_grad():\n",
    "    hidden = model.init_hidden(16)\n",
    "    for inputs, labels in val_loader:\n",
    "        inputs = inputs.to(device).long()\n",
    "        labels = labels.to(device).long()\n",
    "\n",
    "        labels = labels.squeeze(1)\n",
    "        preds = model(inputs, hidden)\n",
    "\n",
    "        prediction = preds.argmax(dim=1)\n",
    "\n",
    "        all_labels.extend(labels.tolist())\n",
    "        all_predictions.extend(prediction.tolist())\n",
    "\n",
    "        correct += (prediction == labels).sum().item()\n",
    "        total += labels.size(0)\n",
    "\n",
    "accuracy = correct / total\n",
    "precision = precision_score(all_labels, all_predictions, average='weighted')\n",
    "recall = recall_score(all_labels, all_predictions, average='weighted')\n",
    "f1 = f1_score(all_labels, all_predictions, average='weighted')\n",
    "conf_matrix = confusion_matrix(all_labels, all_predictions)\n",
    "\n",
    "print(f\"Accuracy: {accuracy}\")\n",
    "print(f\"Precision: {precision}\")\n",
    "print(f\"Recall: {recall}\")\n",
    "print(f\"F1 Score: {f1}\")\n",
    "print(f\"Confusion Matrix: \\n {conf_matrix}\")"
   ]
  },
  {
   "cell_type": "code",
   "execution_count": 211,
   "id": "4307d11d-94b8-493f-80ac-5988631b9b0c",
   "metadata": {},
   "outputs": [],
   "source": [
    "test_string = \"I love Microsoft so fucking much\"\n",
    "test_tokens_text = [word_tokenize(str(sentence)) for sentence in val.text]"
   ]
  },
  {
   "cell_type": "code",
   "execution_count": 212,
   "id": "851ad69d-aa0c-421b-af83-771bba1bd837",
   "metadata": {},
   "outputs": [
    {
     "name": "stdout",
     "output_type": "stream",
     "text": [
      "[0, 0, 1190, 0, 449, 45, 0, 0, 0, 913, 591, 0, 0, 0, 898, 0, 0, 0, 0, 0, 898, 769, 913, 4042, 0, 975, 1042, 0, 0, 769, 913, 1511]\n"
     ]
    }
   ],
   "source": [
    "sentence_list = list(test_string)\n",
    "data = [word_to_index[word] if word in word_to_index else word_to_index['<UNK>'] for word in sentence_list]\n",
    "print(data)"
   ]
  },
  {
   "cell_type": "code",
   "execution_count": 213,
   "id": "c39d1d56-8a9a-462f-829b-33f406f34027",
   "metadata": {},
   "outputs": [],
   "source": [
    "test_padded_sentences = pad_sequence([torch.Tensor(data)], padding_value=word_to_index['<PAD>'])"
   ]
  },
  {
   "cell_type": "code",
   "execution_count": 214,
   "id": "495c74e9-4ca3-4008-9652-66a35e99b1cf",
   "metadata": {},
   "outputs": [
    {
     "data": {
      "text/plain": [
       "tensor([[   0.,    0., 1190.,    0.,  449.,   45.,    0.,    0.,    0.,  913.,\n",
       "          591.,    0.,    0.,    0.,  898.,    0.,    0.,    0.,    0.,    0.,\n",
       "          898.,  769.,  913., 4042.,    0.,  975., 1042.,    0.,    0.,  769.,\n",
       "          913., 1511.]])"
      ]
     },
     "execution_count": 214,
     "metadata": {},
     "output_type": "execute_result"
    }
   ],
   "source": [
    "t_str = test_padded_sentences.t()\n",
    "t_str"
   ]
  },
  {
   "cell_type": "markdown",
   "id": "3497e82e-e733-47cb-ad4a-5b5908068b4c",
   "metadata": {},
   "source": [
    "# REMEMBER:\n",
    "# converting text of labels into index values\n",
    "sentiment_to_index = {\"Positive\": 0, \"Neutral\": 1, \"Negative\":2, \"Irrelevant\": 3}"
   ]
  },
  {
   "cell_type": "code",
   "execution_count": 215,
   "id": "8614ff2f-59be-456f-99d9-307816e244cc",
   "metadata": {},
   "outputs": [
    {
     "name": "stdout",
     "output_type": "stream",
     "text": [
      "torch.Size([1, 32])\n",
      "tensor([3], device='cuda:0')\n"
     ]
    }
   ],
   "source": [
    "model.eval()\n",
    "with torch.no_grad():\n",
    "    inputs = t_str\n",
    "    inputs = inputs.to(device)\n",
    "    print(inputs.size())\n",
    "    h = model.init_hidden(batch_size=1)\n",
    "    prediction = model(inputs.long(), h)\n",
    "    p = prediction.argmax(1)\n",
    "    \n",
    "print(p)"
   ]
  },
  {
   "cell_type": "code",
   "execution_count": null,
   "id": "8f7a8cba-ad69-47b5-a166-0ed405eee364",
   "metadata": {},
   "outputs": [],
   "source": []
  },
  {
   "cell_type": "code",
   "execution_count": null,
   "id": "6b72beb4-89db-470f-8e9b-047f5431bf77",
   "metadata": {},
   "outputs": [],
   "source": []
  }
 ],
 "metadata": {
  "kernelspec": {
   "display_name": "Python 3 (ipykernel)",
   "language": "python",
   "name": "python3"
  },
  "language_info": {
   "codemirror_mode": {
    "name": "ipython",
    "version": 3
   },
   "file_extension": ".py",
   "mimetype": "text/x-python",
   "name": "python",
   "nbconvert_exporter": "python",
   "pygments_lexer": "ipython3",
   "version": "3.9.12"
  }
 },
 "nbformat": 4,
 "nbformat_minor": 5
}
